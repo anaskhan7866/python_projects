{
 "cells": [
  {
   "cell_type": "code",
   "execution_count": 8,
   "id": "7d1209cf",
   "metadata": {},
   "outputs": [
    {
     "name": "stdout",
     "output_type": "stream",
     "text": [
      "the book number is 1 and book name is ANAS\n",
      "the book number is 2 and book name is anas2\n"
     ]
    }
   ],
   "source": [
    "class library():\n",
    "    def __init__(self,book_num,book_name):\n",
    "        self.book_num=book_num\n",
    "        self.book_name=book_name\n",
    "    \n",
    "#     def book_nm():\n",
    "#         a=len(self.book_name)\n",
    "#         return a\n",
    "    def lib(self):\n",
    "        print(f\"the book number is {self.book_num} and book name is {self.book_name}\")\n",
    "        \n",
    "        \n",
    "book1=library(1,\"ANAS\")\n",
    "book2=library(2,\"anas2\")\n",
    "book1.lib()\n",
    "book2.lib()"
   ]
  },
  {
   "cell_type": "code",
   "execution_count": null,
   "id": "1ddfcda6",
   "metadata": {},
   "outputs": [],
   "source": []
  }
 ],
 "metadata": {
  "kernelspec": {
   "display_name": "Python 3 (ipykernel)",
   "language": "python",
   "name": "python3"
  },
  "language_info": {
   "codemirror_mode": {
    "name": "ipython",
    "version": 3
   },
   "file_extension": ".py",
   "mimetype": "text/x-python",
   "name": "python",
   "nbconvert_exporter": "python",
   "pygments_lexer": "ipython3",
   "version": "3.11.5"
  }
 },
 "nbformat": 4,
 "nbformat_minor": 5
}
