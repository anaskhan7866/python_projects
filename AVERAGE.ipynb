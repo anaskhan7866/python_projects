{
 "cells": [
  {
   "cell_type": "code",
   "execution_count": null,
   "id": "7403f016",
   "metadata": {},
   "outputs": [],
   "source": [
    "print(\"ENTER NUMBER OF STUNDENT\")\n",
    "n= int(input())\n",
    "num={}\n",
    "print(\"ENTER STUDENT NAME WITH MARKS IN MATHS PHYSICS CEHMISTRY\\n\")\n",
    "for i in range(0,n):\n",
    "    name=input()\n",
    "    splitted_string = name.split()\n",
    "    varri = splitted_string[0]\n",
    "    numbers = [float(num) for num in splitted_string[1:]]\n",
    "    \n",
    "    avg = float(numbers[0]+numbers[1]+numbers[2])/3.0\n",
    "    num.update({varri : avg})\n",
    "print(\"OF WHICH STUDENT YOU WANT TO FIND AVEARGE\")\n",
    "s=input()\n",
    "if s in num:\n",
    "    fm = \"{:.2f}\".format(float(num[s]))   \n",
    "    print(\"THE AVERAGE OF\", s,\"IS\",fm)\n",
    "\n",
    "    \n"
   ]
  }
 ],
 "metadata": {
  "kernelspec": {
   "display_name": "Python 3 (ipykernel)",
   "language": "python",
   "name": "python3"
  },
  "language_info": {
   "codemirror_mode": {
    "name": "ipython",
    "version": 3
   },
   "file_extension": ".py",
   "mimetype": "text/x-python",
   "name": "python",
   "nbconvert_exporter": "python",
   "pygments_lexer": "ipython3",
   "version": "3.11.5"
  }
 },
 "nbformat": 4,
 "nbformat_minor": 5
}
