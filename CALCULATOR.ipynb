{
 "cells": [
  {
   "cell_type": "code",
   "execution_count": null,
   "id": "5973861b",
   "metadata": {},
   "outputs": [
    {
     "name": "stdout",
     "output_type": "stream",
     "text": [
      "WHAT DO YOU WANT TO DO\n",
      "press 1 for Addition\n",
      "press 2 for Subtractrion\n",
      "press 3 for Multiply\n",
      "press 4 for Divide\n",
      "Enter the number\n",
      "3\n",
      "enter first number100\n",
      "enter second number2.2\n",
      "The Multiply of  100.0 and 2.2 is 220.00000000000003 \n",
      "\n",
      "WHAT DO YOU WANT TO DO\n",
      "press 1 for Addition\n",
      "press 2 for Subtractrion\n",
      "press 3 for Multiply\n",
      "press 4 for Divide\n"
     ]
    }
   ],
   "source": [
    "while True:\n",
    "    print(\"WHAT DO YOU WANT TO DO\")\n",
    "    print(\"press 1 for Addition\")\n",
    "    print(\"press 2 for Subtractrion\")\n",
    "    print(\"press 3 for Multiply\")\n",
    "    print(\"press 4 for Divide\")\n",
    "\n",
    "    x=float(input(\"Enter the number\\n\"))\n",
    "\n",
    "    if x==1:\n",
    "        a=float(input(\"enter first number\"))\n",
    "        b=float(input(\"enter second number\"))\n",
    "        print(\"The Addition of \",a,\"and\",b,\"is\",a+b,\"\\n\")\n",
    "        continue\n",
    "       \n",
    "        \n",
    "    elif x==2:\n",
    "    \n",
    "        a=float(input(\"enter first number\"))\n",
    "        b=float(input(\"enter second number\"))\n",
    "        print(\"The Subtraction of \",a,\"and\",b,\"is\",a-b,\"\\n\")\n",
    "        continue\n",
    "        \n",
    "    elif x==3:\n",
    "        a=float(input(\"enter first number\"))\n",
    "        b=float(input(\"enter second number\"))\n",
    "        print(\"The Multiply of \",a,\"and\",b,\"is\",a*b,\"\\n\")\n",
    "        continue\n",
    "        \n",
    "    elif x==4:\n",
    "        a=float(input(\"enter first number\"))\n",
    "        b=float(input(\"enter second number\"))\n",
    "        print(\"The Divide of \",a,\"and\",b,\"is\",a/b,\"\\n\")\n",
    "        continue\n",
    "    else:\n",
    "        print(\"Invailid choise please renter the choise\\n\")\n",
    "\n",
    "    \n",
    "    \n",
    "    \n",
    "print(\"----Thank YOU-----\")\n",
    "    \n",
    "\n"
   ]
  },
  {
   "cell_type": "code",
   "execution_count": null,
   "id": "2bd1c32f",
   "metadata": {},
   "outputs": [],
   "source": []
  }
 ],
 "metadata": {
  "kernelspec": {
   "display_name": "Python 3 (ipykernel)",
   "language": "python",
   "name": "python3"
  },
  "language_info": {
   "codemirror_mode": {
    "name": "ipython",
    "version": 3
   },
   "file_extension": ".py",
   "mimetype": "text/x-python",
   "name": "python",
   "nbconvert_exporter": "python",
   "pygments_lexer": "ipython3",
   "version": "3.11.5"
  }
 },
 "nbformat": 4,
 "nbformat_minor": 5
}
